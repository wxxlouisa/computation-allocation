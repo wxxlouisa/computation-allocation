{
 "cells": [
  {
   "cell_type": "code",
   "execution_count": 312,
   "id": "3dc84cf2",
   "metadata": {},
   "outputs": [],
   "source": [
    "import pandas as pd\n",
    "import numpy as np\n",
    "import sklearn\n",
    "from sklearn.metrics import mean_squared_error\n",
    "from sklearn.preprocessing import LabelEncoder\n",
    "import matplotlib\n",
    "from matplotlib import pyplot as plt\n",
    "import xgboost as xgb\n",
    "import lightgbm as lgb\n",
    "import hyperopt as hp\n",
    "from hyperopt import fmin, tpe, hp, space_eval, STATUS_OK\n",
    "from functools import partial\n",
    "import json\n",
    "from catboost import Pool, CatBoostRegressor\n",
    "from sklearn.linear_model import  LogisticRegression"
   ]
  },
  {
   "cell_type": "code",
   "execution_count": 257,
   "id": "ade26d1b",
   "metadata": {},
   "outputs": [],
   "source": [
    "data = pd.read_csv(\"source.post.csv\")\n",
    "shuffle = np.random.permutation(len(data))\n",
    "data = data.iloc[shuffle]"
   ]
  },
  {
   "cell_type": "code",
   "execution_count": 258,
   "id": "4fe47b60",
   "metadata": {},
   "outputs": [],
   "source": [
    "feature_columns = [ 'column_1', 'column_2', 'column_3', 'column_4', 'column_5',\n",
    "       'column_6', 'column_7', 'column_8', 'column_9', 'column_10']"
   ]
  },
  {
   "cell_type": "code",
   "execution_count": 216,
   "id": "fc74f63d",
   "metadata": {},
   "outputs": [],
   "source": [
    "col_unique_num = {}\n",
    "for col in feature_columns:\n",
    "    col_unique_num[col] = (len(data[col].unique()))"
   ]
  },
  {
   "cell_type": "code",
   "execution_count": 217,
   "id": "ed4d1734",
   "metadata": {},
   "outputs": [
    {
     "name": "stdout",
     "output_type": "stream",
     "text": [
      "dict_values([500, 409529, 137, 4, 4, 399, 7, 35, 686, 463])\n"
     ]
    }
   ],
   "source": [
    "print(col_unique_num.values())"
   ]
  },
  {
   "cell_type": "code",
   "execution_count": 218,
   "id": "69451bb3",
   "metadata": {},
   "outputs": [],
   "source": [
    "from sklearn.preprocessing import LabelEncoder\n",
    "label_encoders = []\n",
    "for col in ['column_4','column_7','column_5']:\n",
    "    LE = LabelEncoder()\n",
    "    label_encoders.append(LE)\n",
    "    data[col] = LE.fit_transform(data[col])\n",
    "    data[col] = data[col].astype('category')"
   ]
  },
  {
   "cell_type": "code",
   "execution_count": 219,
   "id": "686d2b37",
   "metadata": {},
   "outputs": [],
   "source": [
    "from category_encoders import TargetEncoder"
   ]
  },
  {
   "cell_type": "code",
   "execution_count": 220,
   "id": "d72c3605",
   "metadata": {},
   "outputs": [
    {
     "name": "stdout",
     "output_type": "stream",
     "text": [
      "column_1\n"
     ]
    },
    {
     "name": "stderr",
     "output_type": "stream",
     "text": [
      "/home/xiongzhongzheng/anaconda3/envs/bytecamp/lib/python3.8/site-packages/category_encoders/utils.py:21: FutureWarning: is_categorical is deprecated and will be removed in a future version.  Use is_categorical_dtype instead\n",
      "  elif pd.api.types.is_categorical(cols):\n"
     ]
    },
    {
     "name": "stdout",
     "output_type": "stream",
     "text": [
      "column_2\n",
      "column_3\n",
      "column_6\n",
      "column_8\n",
      "column_9\n",
      "column_10\n"
     ]
    }
   ],
   "source": [
    "target_encoders = {}\n",
    "for col in feature_columns:\n",
    "    if col_unique_num[col] > 10:\n",
    "        print(col)\n",
    "        TE = TargetEncoder()\n",
    "        target_encoders[col] = TE\n",
    "        data[col] = TE.fit_transform(data[col], data['score'])"
   ]
  },
  {
   "cell_type": "code",
   "execution_count": 221,
   "id": "8570033f",
   "metadata": {},
   "outputs": [],
   "source": [
    "data_x = pd.get_dummies(data[feature_columns])"
   ]
  },
  {
   "cell_type": "code",
   "execution_count": 222,
   "id": "422a634f",
   "metadata": {},
   "outputs": [],
   "source": [
    "data_y = data['score']"
   ]
  },
  {
   "cell_type": "code",
   "execution_count": 297,
   "id": "b10f655d",
   "metadata": {},
   "outputs": [],
   "source": [
    "train_data_size = int(0.6 * len(data))\n",
    "val_data_size = int(0.2 * len(data))\n",
    "\n",
    "# train_data = data.iloc[:train_data_size]\n",
    "# val_data = data.iloc[train_data_size:train_data_size + val_data_size]\n",
    "# test_data = data.iloc[train_data_size + val_data_size: ]\n",
    "X_train = data_x.iloc[:train_data_size]\n",
    "y_train = data_y.iloc[:train_data_size].values\n",
    "X_val = data_x.iloc[train_data_size:train_data_size + val_data_size]\n",
    "y_val = data_y.iloc[train_data_size:train_data_size + val_data_size].values\n",
    "X_test =  data_x.iloc[train_data_size + val_data_size: ]\n",
    "y_test =  data_y.iloc[train_data_size + val_data_size: ].values"
   ]
  },
  {
   "cell_type": "markdown",
   "id": "5805af14",
   "metadata": {},
   "source": [
    "## LGBM"
   ]
  },
  {
   "cell_type": "code",
   "execution_count": 224,
   "id": "9ea76846",
   "metadata": {},
   "outputs": [],
   "source": [
    "def lgb_model(params, lgb_train, lgb_val, boost_round=4000, \n",
    "              early_stop=20, verbose_eval=200, nfold=0,):\n",
    "    print('Starting training...')\n",
    "    if nfold != 0:\n",
    "        lgb.cv(params, train_data, num_round = boost_roundt_round, nfold=5 )\n",
    "\n",
    "    gbm = lgb.train(params,\n",
    "                lgb_train,\n",
    "                num_boost_round=boost_round,\n",
    "                valid_sets=lgb_val,\n",
    "                early_stopping_rounds=early_stop, verbose_eval=200)\n",
    "\n",
    "#     print('Saving model...')\n",
    "    # save model to file\n",
    "#     if model_name != '':\n",
    "#         gbm.save_model('{}.txt'.format(model_name))\n",
    "#     y_pred = gbm.predict(X_test, num_iteration=gbm.best_iteration)\n",
    "#     # eval\n",
    "#     print('The rmse of prediction is:', mean_squared_error(y_test, y_pred) ** 0.5)\n",
    "    return gbm"
   ]
  },
  {
   "cell_type": "code",
   "execution_count": 225,
   "id": "325d7826",
   "metadata": {},
   "outputs": [],
   "source": [
    "def lgb_objective(params, lgb_train, lgb_val, X_val, y_val, fold=0):\n",
    "\n",
    "    gbm = lgb_model(params, lgb_train, lgb_val)\n",
    "    \n",
    "        \n",
    "    y_pred = gbm.predict(X_val, num_iteration=gbm.best_iteration)\n",
    "    rmse_val = mean_squared_error(y_val, y_pred) ** 0.5\n",
    "    return {'loss': rmse_val ,  'status': STATUS_OK}"
   ]
  },
  {
   "cell_type": "code",
   "execution_count": 226,
   "id": "e4a20a11",
   "metadata": {},
   "outputs": [],
   "source": [
    "# create dataset for lightgbm\n",
    "lgb_train = lgb.Dataset(X_train, y_train, free_raw_data=False)\n",
    "lgb_val = lgb.Dataset(X_val, y_val, reference=lgb_train)\n",
    "\n",
    "# specify your configurations as a dict\n",
    "params = {\n",
    "    'boosting_type': 'gbdt',\n",
    "    'objective': 'regression',\n",
    "    'metric': {'rmse'},\n",
    "    'num_leaves': 50,\n",
    "    'learning_rate': 0.05,\n",
    "    'feature_fraction': 0.9,\n",
    "    'bagging_fraction': 0.8,\n",
    "    'bagging_freq': 5,\n",
    "    'verbose': 1\n",
    "}"
   ]
  },
  {
   "cell_type": "code",
   "execution_count": 227,
   "id": "12e03875",
   "metadata": {},
   "outputs": [],
   "source": [
    "def hyperopt_lgb(lgb_objective, lgb_train, lgb_val, X_val, y_val):\n",
    "    space = {'objective': 'regression',\n",
    "             'metric':'rmse',\n",
    "             'boosting':'gbdt',\n",
    "             'num_leaves': hp.choice('num_leaves', list(range(20, 200, 20))),\n",
    "             'feature_fraction': hp.choice('feature_fraction', [.7, .8, .9, 1]),\n",
    "             'bagging_fraction': hp.uniform('bagging_fraction', 0.7, 1),\n",
    "             'learning_rate': hp.uniform('learning_rate', 0.03, 0.12),\n",
    "            }\n",
    "    fmin_objective = partial(lgb_objective,lgb_train=lgb_train, lgb_val=lgb_val, X_val=X_val, y_val=y_val)\n",
    "    best_vals = fmin(fmin_objective, space, algo=tpe.suggest, max_evals=5)\n",
    "    best_params = space_eval(space, best_vals)\n",
    "    return best_params"
   ]
  },
  {
   "cell_type": "code",
   "execution_count": 228,
   "id": "89d933d6",
   "metadata": {
    "collapsed": true
   },
   "outputs": [
    {
     "name": "stdout",
     "output_type": "stream",
     "text": [
      "Starting training...                                                            \n",
      "[LightGBM] [Warning] Auto-choosing row-wise multi-threading, the overhead of testing was 0.012269 seconds.\n",
      "You can set `force_row_wise=true` to remove the overhead.\n",
      "And if memory is not enough, you can set `force_col_wise=true`.\n",
      "[LightGBM] [Info] Total Bins 1246                                               \n",
      "[LightGBM] [Info] Number of data points in the train set: 600000, number of used features: 20\n",
      "[LightGBM] [Info] Start training from score 0.147496                            \n",
      "Training until validation scores don't improve for 20 rounds                    \n",
      "[200]\tvalid_0's rmse: 0.0236817                                                 \n",
      "[400]\tvalid_0's rmse: 0.0231005                                                 \n",
      "[600]\tvalid_0's rmse: 0.0228455                                                 \n",
      "[800]\tvalid_0's rmse: 0.0226812                                                 \n",
      "[1000]\tvalid_0's rmse: 0.0225604                                                \n",
      "[1200]\tvalid_0's rmse: 0.0224748                                                \n",
      "[1400]\tvalid_0's rmse: 0.0224228                                                \n",
      "[1600]\tvalid_0's rmse: 0.0223702                                                \n",
      "[1800]\tvalid_0's rmse: 0.0223226                                                \n",
      "Early stopping, best iteration is:                                              \n",
      "[1962]\tvalid_0's rmse: 0.0222955\n",
      "Starting training...                                                            \n",
      "[LightGBM] [Warning] Auto-choosing row-wise multi-threading, the overhead of testing was 0.010325 seconds.\n",
      "You can set `force_row_wise=true` to remove the overhead.\n",
      "And if memory is not enough, you can set `force_col_wise=true`.\n",
      "[LightGBM] [Info] Total Bins 1246                                               \n",
      "[LightGBM] [Info] Number of data points in the train set: 600000, number of used features: 20\n",
      "[LightGBM] [Info] Start training from score 0.147496                            \n",
      "Training until validation scores don't improve for 20 rounds                    \n",
      "[200]\tvalid_0's rmse: 0.0227788                                                 \n",
      "[400]\tvalid_0's rmse: 0.022433                                                  \n",
      "[600]\tvalid_0's rmse: 0.0222908                                                 \n",
      "[800]\tvalid_0's rmse: 0.0222146                                                 \n",
      "[1000]\tvalid_0's rmse: 0.0221684                                                \n",
      "Early stopping, best iteration is:                                              \n",
      "[1059]\tvalid_0's rmse: 0.022158\n",
      "Starting training...                                                            \n",
      "[LightGBM] [Warning] Auto-choosing row-wise multi-threading, the overhead of testing was 0.011499 seconds.\n",
      "You can set `force_row_wise=true` to remove the overhead.\n",
      "And if memory is not enough, you can set `force_col_wise=true`.\n",
      "[LightGBM] [Info] Total Bins 1246                                               \n",
      "[LightGBM] [Info] Number of data points in the train set: 600000, number of used features: 20\n",
      "[LightGBM] [Info] Start training from score 0.147496                            \n",
      "Training until validation scores don't improve for 20 rounds                    \n",
      "[200]\tvalid_0's rmse: 0.0230012                                                 \n",
      "[400]\tvalid_0's rmse: 0.0225656                                                 \n",
      "[600]\tvalid_0's rmse: 0.0223736                                                 \n",
      "[800]\tvalid_0's rmse: 0.0222526                                                 \n",
      "[1000]\tvalid_0's rmse: 0.0221666                                                \n",
      "[1200]\tvalid_0's rmse: 0.0221229                                                \n",
      "[1400]\tvalid_0's rmse: 0.022092                                                 \n",
      "Early stopping, best iteration is:                                              \n",
      "[1453]\tvalid_0's rmse: 0.0220858\n",
      "Starting training...                                                            \n",
      "[LightGBM] [Warning] Auto-choosing row-wise multi-threading, the overhead of testing was 0.014074 seconds.\n",
      "You can set `force_row_wise=true` to remove the overhead.\n",
      "And if memory is not enough, you can set `force_col_wise=true`.\n",
      "[LightGBM] [Info] Total Bins 1246                                               \n",
      "[LightGBM] [Info] Number of data points in the train set: 600000, number of used features: 20\n",
      "[LightGBM] [Info] Start training from score 0.147496                            \n",
      "Training until validation scores don't improve for 20 rounds                    \n",
      "[200]\tvalid_0's rmse: 0.022844                                                  \n",
      "[400]\tvalid_0's rmse: 0.0225281                                                 \n",
      "[600]\tvalid_0's rmse: 0.0223847                                                 \n",
      "[800]\tvalid_0's rmse: 0.0223073                                                 \n",
      "[1000]\tvalid_0's rmse: 0.0222585                                                \n",
      "Early stopping, best iteration is:                                              \n",
      "[1109]\tvalid_0's rmse: 0.022245\n",
      "Starting training...                                                            \n",
      "[LightGBM] [Warning] Auto-choosing row-wise multi-threading, the overhead of testing was 0.010120 seconds.\n",
      "You can set `force_row_wise=true` to remove the overhead.\n",
      "And if memory is not enough, you can set `force_col_wise=true`.\n",
      "[LightGBM] [Info] Total Bins 1246                                               \n",
      "[LightGBM] [Info] Number of data points in the train set: 600000, number of used features: 20\n",
      "[LightGBM] [Info] Start training from score 0.147496                            \n",
      "Training until validation scores don't improve for 20 rounds                    \n",
      "[200]\tvalid_0's rmse: 0.0253427                                                 \n",
      "[400]\tvalid_0's rmse: 0.0243443                                                 \n",
      "[600]\tvalid_0's rmse: 0.0238348                                                 \n",
      "[800]\tvalid_0's rmse: 0.0235083                                                 \n",
      "[1000]\tvalid_0's rmse: 0.0232611                                                \n",
      "[1200]\tvalid_0's rmse: 0.0230794                                                \n",
      "[1400]\tvalid_0's rmse: 0.0229447                                                \n",
      "[1600]\tvalid_0's rmse: 0.0228465                                                \n",
      "[1800]\tvalid_0's rmse: 0.0227853                                                \n",
      "Early stopping, best iteration is:                                              \n",
      "[1785]\tvalid_0's rmse: 0.0227829\n",
      "100%|██████████| 5/5 [01:03<00:00, 12.70s/trial, best loss: 0.02208584522619841]\n",
      "{'bagging_fraction': 0.7234088183486014, 'boosting': 'gbdt', 'feature_fraction': 0.7, 'learning_rate': 0.05750196221906846, 'metric': 'rmse', 'num_leaves': 100, 'objective': 'regression'}\n"
     ]
    }
   ],
   "source": [
    "best_params = hyperopt_lgb(lgb_objective, lgb_train, lgb_val, X_val, y_val)\n",
    "file_name='lgb_params_target_encoder.txt'\n",
    "with open(file_name, 'w') as f:\n",
    "    f.write(json.dumps(best_params)) \n",
    "print(best_params)\n",
    "#     file_name='{}_lgb_params_bayes_encoding.txt'.format(target)\n",
    "#     with open(file_name, 'w') as f:\n",
    "#         f.write(json.dumps(best_params)) \n",
    "#     print(best_params)"
   ]
  },
  {
   "cell_type": "code",
   "execution_count": 299,
   "id": "dc609b69",
   "metadata": {},
   "outputs": [
    {
     "name": "stdout",
     "output_type": "stream",
     "text": [
      "Starting training...\n",
      "[LightGBM] [Warning] Auto-choosing row-wise multi-threading, the overhead of testing was 0.011549 seconds.\n",
      "You can set `force_row_wise=true` to remove the overhead.\n",
      "And if memory is not enough, you can set `force_col_wise=true`.\n",
      "[LightGBM] [Info] Total Bins 1246\n",
      "[LightGBM] [Info] Number of data points in the train set: 600000, number of used features: 20\n",
      "[LightGBM] [Info] Start training from score 0.147496\n",
      "Training until validation scores don't improve for 20 rounds\n",
      "[200]\tvalid_0's rmse: 0.0230012\n",
      "[400]\tvalid_0's rmse: 0.0225656\n",
      "[600]\tvalid_0's rmse: 0.0223736\n",
      "[800]\tvalid_0's rmse: 0.0222526\n",
      "[1000]\tvalid_0's rmse: 0.0221666\n",
      "[1200]\tvalid_0's rmse: 0.0221229\n",
      "[1400]\tvalid_0's rmse: 0.022092\n",
      "Early stopping, best iteration is:\n",
      "[1453]\tvalid_0's rmse: 0.0220858\n",
      "Starting predicting...\n"
     ]
    }
   ],
   "source": [
    "f = open(file_name, 'r')\n",
    "dic_str = f.readline()\n",
    "params = json.loads(dic_str)\n",
    "f.close()\n",
    "gbm = lgb_model(params, lgb_train, lgb_val, boost_round=2000)"
   ]
  },
  {
   "cell_type": "code",
   "execution_count": 300,
   "id": "c35f2f05",
   "metadata": {},
   "outputs": [
    {
     "name": "stdout",
     "output_type": "stream",
     "text": [
      "rmse on test dataset: 0.0221\n"
     ]
    }
   ],
   "source": [
    "print('Starting predicting...')\n",
    "y_pred = gbm.predict(X_test, num_iteration=gbm.best_iteration)\n",
    "rmse_test = mean_squared_error(y_test, y_pred) ** 0.5\n",
    "print(\"rmse on test dataset: {:.4f}\".format(rmse_test))"
   ]
  },
  {
   "cell_type": "code",
   "execution_count": 189,
   "id": "f39cd4c5",
   "metadata": {},
   "outputs": [],
   "source": [
    "sort_inds = np.argsort(y_test)\n",
    "y_test = y_test[sort_inds]\n",
    "y_pred = y_pred[sort_inds]"
   ]
  },
  {
   "cell_type": "code",
   "execution_count": 190,
   "id": "419cac6b",
   "metadata": {},
   "outputs": [
    {
     "data": {
      "text/plain": [
       "[<matplotlib.lines.Line2D at 0x7f41e126e280>]"
      ]
     },
     "execution_count": 190,
     "metadata": {},
     "output_type": "execute_result"
    },
    {
     "data": {
      "image/png": "[encoded data removed]",
      "text/plain": [
       "<Figure size 432x288 with 2 Axes>"
      ]
     },
     "metadata": {
      "needs_background": "light"
     },
     "output_type": "display_data"
    }
   ],
   "source": [
    "fig, (ax1, ax2) = plt.subplots(2, 1)\n",
    "x = np.arange(len(y_test))\n",
    "ax1.plot(x,  y_test, label='true')\n",
    "ax2.plot(x, y_pred, label='pred')"
   ]
  },
  {
   "cell_type": "code",
   "execution_count": 301,
   "id": "be0f9d7e",
   "metadata": {},
   "outputs": [
    {
     "data": {
      "text/plain": [
       "<Figure size 864x432 with 0 Axes>"
      ]
     },
     "metadata": {},
     "output_type": "display_data"
    },
    {
     "data": {
      "image/png": "[encoded data removed]",
      "text/plain": [
       "<Figure size 432x288 with 1 Axes>"
      ]
     },
     "metadata": {
      "needs_background": "light"
     },
     "output_type": "display_data"
    }
   ],
   "source": [
    "plt.figure(figsize=(12,6))\n",
    "lgb.plot_importance(gbm, max_num_features=30)\n",
    "plt.title(\"Featurertances\")\n",
    "plt.show()"
   ]
  },
  {
   "cell_type": "markdown",
   "id": "093afac9",
   "metadata": {},
   "source": [
    "## Catboost"
   ]
  },
  {
   "cell_type": "code",
   "execution_count": 259,
   "id": "f08852fd",
   "metadata": {},
   "outputs": [],
   "source": [
    "cab_feature_cols = feature_columns"
   ]
  },
  {
   "cell_type": "code",
   "execution_count": 276,
   "id": "2206962f",
   "metadata": {},
   "outputs": [],
   "source": [
    "train_data_size = int(0.6 * len(data))\n",
    "val_data_size = int(0.2 * len(data))\n",
    "X_train_cab = data.iloc[:train_data_size][feature_columns]\n",
    "y_train_cab = data.iloc[:train_data_size]['score']\n",
    "X_val_cab = data.iloc[train_data_size:train_data_size+val_data_size][feature_columns]\n",
    "y_val_cab = data.iloc[train_data_size:train_data_size+val_data_size]['score']\n",
    "X_test_cab = data.iloc[train_data_size+val_data_size:][feature_columns]\n",
    "y_test_cab = data.iloc[train_data_size+val_data_size:]['score']"
   ]
  },
  {
   "cell_type": "code",
   "execution_count": 277,
   "id": "f1bc24be",
   "metadata": {},
   "outputs": [],
   "source": [
    "categorical_features_indices = np.where(X_train_cab.dtypes != float)[0]"
   ]
  },
  {
   "cell_type": "code",
   "execution_count": 278,
   "id": "affd85d0",
   "metadata": {},
   "outputs": [],
   "source": [
    "def cab_objective(params, X_train, y_train, categorical_features_indices):\n",
    "    model = CatBoostClassifier(\n",
    "        l2_leaf_reg=int(params['l2_leaf_reg']),\n",
    "        learning_rate=params['learning_rate'],\n",
    "        iterations=500,\n",
    "        eval_metric='RMSE',\n",
    "        random_seed=42,\n",
    "        verbose=False,\n",
    "        loss_function='RMSE',\n",
    "    )\n",
    "    \n",
    "    cv_data = cv(\n",
    "        Pool(X, y, cat_features=categorical_features_indices),\n",
    "        model.get_params()\n",
    "    )\n",
    "    mean_rmse = cv_data['test-RMSE-mean']\n",
    "    \n",
    "    return mean_rmse # as hyperopt minimises"
   ]
  },
  {
   "cell_type": "code",
   "execution_count": 279,
   "id": "2dc88ad4",
   "metadata": {},
   "outputs": [],
   "source": [
    "def hyperopt_cab(hyperopt_objective, X_train, y_train, categorical_features_indices):\n",
    "    params_space = {\n",
    "        'l2_leaf_reg': hyperopt.hp.qloguniform('l2_leaf_reg', 0, 2, 1),\n",
    "        'learning_rate': hyperopt.hp.uniform('learning_rate', 1e-3, 5e-1),\n",
    "    }\n",
    "\n",
    "    \n",
    "    fmin_obj = partial(hyperopt_objective, X_train=X_train, y_train=y_train, \n",
    "                       categorical_features_indices=categorical_features_indices)\n",
    "    best = hyperopt.fmin(\n",
    "        hyperopt_objective,\n",
    "        space=params_space,\n",
    "        algo=hyperopt.tpe.suggest,\n",
    "        max_evals=50,\n",
    "        rstate=RandomState(123)\n",
    "    )\n",
    "    print(best)\n"
   ]
  },
  {
   "cell_type": "code",
   "execution_count": 280,
   "id": "4d5d97df",
   "metadata": {},
   "outputs": [
    {
     "data": {
      "application/vnd.jupyter.widget-view+json": {
       "model_id": "868c9b86febf4826b2719e9b9b168382",
       "version_major": 2,
       "version_minor": 0
      },
      "text/plain": [
       "MetricVisualizer(layout=Layout(align_self='stretch', height='500px'))"
      ]
     },
     "metadata": {},
     "output_type": "display_data"
    },
    {
     "name": "stdout",
     "output_type": "stream",
     "text": [
      "0:\tlearn: 0.2240108\ttest: 0.2246113\tbest: 0.2246113 (0)\ttotal: 156ms\tremaining: 12m 59s\n",
      "200:\tlearn: 0.0754516\ttest: 0.0725075\tbest: 0.0725075 (200)\ttotal: 15.9s\tremaining: 6m 20s\n",
      "400:\tlearn: 0.0741428\ttest: 0.0712471\tbest: 0.0712471 (400)\ttotal: 30.2s\tremaining: 5m 46s\n",
      "600:\tlearn: 0.0737107\ttest: 0.0708468\tbest: 0.0708468 (600)\ttotal: 41.8s\tremaining: 5m 5s\n",
      "800:\tlearn: 0.0731244\ttest: 0.0702510\tbest: 0.0702510 (800)\ttotal: 53.7s\tremaining: 4m 41s\n",
      "1000:\tlearn: 0.0728283\ttest: 0.0700140\tbest: 0.0700140 (1000)\ttotal: 1m 5s\tremaining: 4m 20s\n",
      "1200:\tlearn: 0.0725753\ttest: 0.0697946\tbest: 0.0697946 (1200)\ttotal: 1m 16s\tremaining: 4m 2s\n",
      "1400:\tlearn: 0.0723667\ttest: 0.0696515\tbest: 0.0696515 (1399)\ttotal: 1m 27s\tremaining: 3m 43s\n",
      "1600:\tlearn: 0.0721878\ttest: 0.0695132\tbest: 0.0695132 (1600)\ttotal: 1m 37s\tremaining: 3m 26s\n",
      "1800:\tlearn: 0.0720759\ttest: 0.0694468\tbest: 0.0694468 (1800)\ttotal: 1m 45s\tremaining: 3m 7s\n",
      "2000:\tlearn: 0.0718630\ttest: 0.0692736\tbest: 0.0692736 (2000)\ttotal: 1m 54s\tremaining: 2m 51s\n",
      "2200:\tlearn: 0.0717250\ttest: 0.0691645\tbest: 0.0691643 (2198)\ttotal: 2m 4s\tremaining: 2m 38s\n",
      "2400:\tlearn: 0.0716235\ttest: 0.0690902\tbest: 0.0690902 (2400)\ttotal: 2m 14s\tremaining: 2m 25s\n",
      "2600:\tlearn: 0.0715262\ttest: 0.0690251\tbest: 0.0690250 (2599)\ttotal: 2m 23s\tremaining: 2m 12s\n",
      "2800:\tlearn: 0.0714432\ttest: 0.0689751\tbest: 0.0689749 (2795)\ttotal: 2m 32s\tremaining: 1m 59s\n",
      "3000:\tlearn: 0.0713331\ttest: 0.0689005\tbest: 0.0689005 (3000)\ttotal: 2m 40s\tremaining: 1m 47s\n",
      "3200:\tlearn: 0.0712207\ttest: 0.0688359\tbest: 0.0688359 (3199)\ttotal: 2m 50s\tremaining: 1m 35s\n",
      "3400:\tlearn: 0.0711191\ttest: 0.0687682\tbest: 0.0687682 (3398)\ttotal: 2m 59s\tremaining: 1m 24s\n",
      "3600:\tlearn: 0.0710091\ttest: 0.0687141\tbest: 0.0687141 (3600)\ttotal: 3m 8s\tremaining: 1m 13s\n",
      "3800:\tlearn: 0.0708975\ttest: 0.0686649\tbest: 0.0686649 (3800)\ttotal: 3m 18s\tremaining: 1m 2s\n",
      "4000:\tlearn: 0.0707983\ttest: 0.0686131\tbest: 0.0686131 (4000)\ttotal: 3m 28s\tremaining: 52s\n",
      "4200:\tlearn: 0.0707363\ttest: 0.0685811\tbest: 0.0685811 (4200)\ttotal: 3m 38s\tremaining: 41.5s\n",
      "4400:\tlearn: 0.0706768\ttest: 0.0685521\tbest: 0.0685521 (4400)\ttotal: 3m 48s\tremaining: 31.1s\n",
      "4600:\tlearn: 0.0705875\ttest: 0.0685070\tbest: 0.0685070 (4600)\ttotal: 3m 58s\tremaining: 20.7s\n",
      "4800:\tlearn: 0.0705117\ttest: 0.0684652\tbest: 0.0684652 (4800)\ttotal: 4m 9s\tremaining: 10.3s\n",
      "4999:\tlearn: 0.0704422\ttest: 0.0684322\tbest: 0.0684322 (4999)\ttotal: 4m 19s\tremaining: 0us\n",
      "\n",
      "bestTest = 0.06843219536\n",
      "bestIteration = 4999\n",
      "\n"
     ]
    },
    {
     "data": {
      "text/plain": [
       "<catboost.core.CatBoostRegressor at 0x7f40b4ab7f10>"
      ]
     },
     "execution_count": 280,
     "metadata": {},
     "output_type": "execute_result"
    }
   ],
   "source": [
    "cat_params = {\n",
    "#     'colsample_bylevel': 0.8,\n",
    "    'reg_lambda': 10,\n",
    "    'iterations': 5000,\n",
    "    'learning_rate': 0.5,\n",
    "    'eval_metric': 'RMSE',\n",
    "    'random_seed': 1111,\n",
    "#     'logging_level': 'Silent',\n",
    "    'use_best_model': True,\n",
    "    'od_type': 'Iter',\n",
    "    'od_wait': 40,\n",
    "    'task_type': \"CPU\",\n",
    "    'devices': '1:3',\n",
    "    'loss_function':'RMSE',\n",
    "    'verbose': 200,\n",
    "    'grow_policy': 'Lossguide',\n",
    "    'one_hot_max_size': 5,\n",
    "    'depth': 8\n",
    "#     'logging_level': 'Verbose'\n",
    "}\n",
    "\n",
    "# cat_submissions = []\n",
    "test_pool = Pool(X_test_cab, cat_features=categorical_features_indices)\n",
    "train_pool = Pool(X_train_cab, y_train_cab, categorical_features_indices)\n",
    "val_pool = Pool(X_val_cab, y_val_cab, categorical_features_indices)\n",
    "# specify the training parameters \n",
    "cat_model = CatBoostRegressor(**cat_params)\n",
    "#train the model\n",
    "cat_model.fit(train_pool, eval_set=val_pool,plot=True)\n",
    "# make the prediction using the resulting model\n",
    "\n",
    "#     cat_sub_target_id = list(test_data['RowId'].apply(lambda x: '{}_{}'.format(x, i)).values)\n",
    "#     cat_sub_target_df = pd.DataFrame({'TargetId': cat_sub_target_id, 'Target': y_pred})\n",
    "#     cat_submissions.append(cat_sub_target_df)"
   ]
  },
  {
   "cell_type": "code",
   "execution_count": 282,
   "id": "1fc49a4c",
   "metadata": {},
   "outputs": [
    {
     "name": "stdout",
     "output_type": "stream",
     "text": [
      "prediction loss: 0.06765582\n"
     ]
    }
   ],
   "source": [
    "y_pred = cat_model.predict(test_pool)\n",
    "print(\"prediction loss: {:.8f}\".format(mean_squared_error(y_test_cab, y_pred) ** 0.5))"
   ]
  },
  {
   "cell_type": "code",
   "execution_count": 283,
   "id": "baff2577",
   "metadata": {},
   "outputs": [],
   "source": [
    "y_test = y_test_cab"
   ]
  },
  {
   "cell_type": "markdown",
   "id": "d7ac08b1",
   "metadata": {},
   "source": [
    "## XGBoost"
   ]
  },
  {
   "cell_type": "code",
   "execution_count": 309,
   "id": "cfb8f40d",
   "metadata": {},
   "outputs": [],
   "source": [
    "def xgb_objective(params, xgb_train, xgb_val, y_val):\n",
    "    num_round = 600\n",
    "    watchlist = [(xgb_val, 'eval')]\n",
    "    xgb_model = xgb.train(params, xgb_train, num_round,\n",
    "                          evals=watchlist,\n",
    "                          verbose_eval=200)\n",
    "    y_pred = xgb_model.predict(xgb_val, ntree_limit=xgb_model.best_iteration + 1)\n",
    "    print(\"Best Iteration: \", xgb_model.best_iteration)\n",
    "    rmse_val = mean_squared_error(y_val, y_pred) ** 0.5\n",
    "    return {'loss': rmse_val ,  'status': STATUS_OK}"
   ]
  },
  {
   "cell_type": "code",
   "execution_count": 322,
   "id": "5e8bc4cd",
   "metadata": {},
   "outputs": [],
   "source": [
    "def hyperopt_xgb(xgb_objective, xgb_train, xgb_val, y_val):\n",
    "    space = {\n",
    "        'eta': hp.quniform('eta', 0.025, 0.5, 0.025),\n",
    "        'max_depth':  hp.choice('max_depth', np.arange(10, 20, dtype=int)),\n",
    "        'min_child_weight': hp.quniform('min_child_weight', 1, 10, 1),\n",
    "        'subsample': hp.quniform('subsample', 0.5, 1, 0.05),\n",
    "        'gamma': hp.quniform('gamma', 0.1, 0.5, 0.05),\n",
    "        'colsample_bytree': hp.quniform('colsample_bytree', 0.5, 1, 0.05),\n",
    "        'eval_metric': 'rmse',\n",
    "        'objective': 'reg:squarederror',\n",
    "        'nthread': 4,\n",
    "        'booster': 'gbtree',\n",
    "        'tree_method': 'hist',\n",
    "        'silent': 1,\n",
    "        'seed': 1234,\n",
    "        'verbose_eval': 200\n",
    "    }\n",
    "    # Use the fmin function from Hyperopt to find the best hyperparameters\n",
    "    fmin_objective = partial(xgb_objective,xgb_train=xgb_train, xgb_val=xgb_val, y_val=y_val)\n",
    "    best_vals = fmin(fmin_objective, space, algo=tpe.suggest, max_evals=10)\n",
    "    best_params = space_eval(space, best_vals)\n",
    "    return best_params"
   ]
  },
  {
   "cell_type": "code",
   "execution_count": 323,
   "id": "ae1fd950",
   "metadata": {
    "collapsed": true
   },
   "outputs": [
    {
     "name": "stdout",
     "output_type": "stream",
     "text": [
      "[00:51:53] WARNING: ../src/learner.cc:573:                                      \n",
      "Parameters: { \"silent\", \"verbose_eval\" } might not be used.\n",
      "\n",
      "  This may not be accurate due to some parameters are only used in language bindings but\n",
      "  passed down to XGBoost core.  Or some parameters are not used but slip through this\n",
      "  verification. Please open an issue if you find above cases.\n",
      "\n",
      "\n",
      "[0]\teval-rmse:0.34189                                                           \n",
      "[200]\teval-rmse:0.02482                                                         \n",
      "[400]\teval-rmse:0.02472                                                         \n",
      "[599]\teval-rmse:0.02470                                                         \n",
      "Best Iteration:                                                                 \n",
      "599                                                                             \n",
      "  0%|                                    | 0/10 [01:05<?, ?trial/s, best loss=?]"
     ]
    },
    {
     "name": "stderr",
     "output_type": "stream",
     "text": [
      "/home/xiongzhongzheng/anaconda3/envs/bytecamp/lib/python3.8/site-packages/xgboost/core.py:101: UserWarning: ntree_limit is deprecated, use `iteration_range` or model slicing instead.\n",
      "  warnings.warn(\n",
      "\n"
     ]
    },
    {
     "name": "stdout",
     "output_type": "stream",
     "text": [
      "[00:52:58] WARNING: ../src/learner.cc:573:                                      \n",
      "Parameters: { \"silent\", \"verbose_eval\" } might not be used.\n",
      "\n",
      "  This may not be accurate due to some parameters are only used in language bindings but\n",
      "  passed down to XGBoost core.  Or some parameters are not used but slip through this\n",
      "  verification. Please open an issue if you find above cases.\n",
      "\n",
      "\n",
      "[0]\teval-rmse:0.24143                                                           \n",
      "[200]\teval-rmse:0.02534                                                         \n",
      "[400]\teval-rmse:0.02530                                                         \n",
      "[599]\teval-rmse:0.02524                                                         \n",
      "Best Iteration:                                                                 \n",
      "599                                                                             \n",
      "[00:54:12] WARNING: ../src/learner.cc:573:                                      \n",
      "Parameters: { \"silent\", \"verbose_eval\" } might not be used.\n",
      "\n",
      "  This may not be accurate due to some parameters are only used in language bindings but\n",
      "  passed down to XGBoost core.  Or some parameters are not used but slip through this\n",
      "  verification. Please open an issue if you find above cases.\n",
      "\n",
      "\n",
      " 20%|█▌      | 2/10 [02:19<09:22, 70.26s/trial, best loss: 0.024703461889110625]"
     ]
    },
    {
     "name": "stderr",
     "output_type": "stream",
     "text": [
      "/home/xiongzhongzheng/anaconda3/envs/bytecamp/lib/python3.8/site-packages/xgboost/core.py:101: UserWarning: ntree_limit is deprecated, use `iteration_range` or model slicing instead.\n",
      "  warnings.warn(\n",
      "\n"
     ]
    },
    {
     "name": "stdout",
     "output_type": "stream",
     "text": [
      "[0]\teval-rmse:0.28124                                                           \n",
      "[200]\teval-rmse:0.02462                                                         \n",
      "[400]\teval-rmse:0.02457                                                         \n",
      "[599]\teval-rmse:0.02455                                                         \n",
      "Best Iteration:                                                                 \n",
      "599                                                                             \n",
      " 20%|█▌      | 2/10 [03:34<09:22, 70.26s/trial, best loss: 0.024703461889110625]"
     ]
    },
    {
     "name": "stderr",
     "output_type": "stream",
     "text": [
      "/home/xiongzhongzheng/anaconda3/envs/bytecamp/lib/python3.8/site-packages/xgboost/core.py:101: UserWarning: ntree_limit is deprecated, use `iteration_range` or model slicing instead.\n",
      "  warnings.warn(\n",
      "\n"
     ]
    },
    {
     "name": "stdout",
     "output_type": "stream",
     "text": [
      "[00:55:28] WARNING: ../src/learner.cc:573:                                      \n",
      "Parameters: { \"silent\", \"verbose_eval\" } might not be used.\n",
      "\n",
      "  This may not be accurate due to some parameters are only used in language bindings but\n",
      "  passed down to XGBoost core.  Or some parameters are not used but slip through this\n",
      "  verification. Please open an issue if you find above cases.\n",
      "\n",
      "\n",
      "[0]\teval-rmse:0.36223                                                           \n",
      "[200]\teval-rmse:0.02351                                                         \n",
      "[400]\teval-rmse:0.02345                                                         \n",
      "[599]\teval-rmse:0.02341                                                         \n",
      " 30%|██▍     | 3/10 [04:22<08:30, 72.87s/trial, best loss: 0.024547071776384845]"
     ]
    },
    {
     "name": "stderr",
     "output_type": "stream",
     "text": [
      "/home/xiongzhongzheng/anaconda3/envs/bytecamp/lib/python3.8/site-packages/xgboost/core.py:101: UserWarning: ntree_limit is deprecated, use `iteration_range` or model slicing instead.\n",
      "  warnings.warn(\n",
      "\n"
     ]
    },
    {
     "name": "stdout",
     "output_type": "stream",
     "text": [
      "Best Iteration:                                                                 \n",
      "599                                                                             \n",
      "[00:56:37] WARNING: ../src/learner.cc:573:                                      \n",
      "Parameters: { \"silent\", \"verbose_eval\" } might not be used.\n",
      "\n",
      "  This may not be accurate due to some parameters are only used in language bindings but\n",
      "  passed down to XGBoost core.  Or some parameters are not used but slip through this\n",
      "  verification. Please open an issue if you find above cases.\n",
      "\n",
      "\n",
      "[0]\teval-rmse:0.39287                                                           \n",
      "[200]\teval-rmse:0.02545                                                         \n",
      "[400]\teval-rmse:0.02535                                                         \n",
      "[599]\teval-rmse:0.02526                                                         \n",
      " 40%|███▏    | 4/10 [05:25<07:09, 71.61s/trial, best loss: 0.023411874638422817]"
     ]
    },
    {
     "name": "stderr",
     "output_type": "stream",
     "text": [
      "/home/xiongzhongzheng/anaconda3/envs/bytecamp/lib/python3.8/site-packages/xgboost/core.py:101: UserWarning: ntree_limit is deprecated, use `iteration_range` or model slicing instead.\n",
      "  warnings.warn(\n",
      "\n"
     ]
    },
    {
     "name": "stdout",
     "output_type": "stream",
     "text": [
      "Best Iteration:                                                                 \n",
      "599                                                                             \n",
      "[00:57:24] WARNING: ../src/learner.cc:573:                                      \n",
      "Parameters: { \"silent\", \"verbose_eval\" } might not be used.\n",
      "\n",
      "  This may not be accurate due to some parameters are only used in language bindings but\n",
      "  passed down to XGBoost core.  Or some parameters are not used but slip through this\n",
      "  verification. Please open an issue if you find above cases.\n",
      "\n",
      "\n",
      "[0]\teval-rmse:0.37242                                                           \n",
      "[200]\teval-rmse:0.02465                                                         \n",
      "[400]\teval-rmse:0.02453                                                         \n",
      "[599]\teval-rmse:0.02448                                                         \n",
      " 50%|████    | 5/10 [06:15<05:13, 62.70s/trial, best loss: 0.023411874638422817]"
     ]
    },
    {
     "name": "stderr",
     "output_type": "stream",
     "text": [
      "/home/xiongzhongzheng/anaconda3/envs/bytecamp/lib/python3.8/site-packages/xgboost/core.py:101: UserWarning: ntree_limit is deprecated, use `iteration_range` or model slicing instead.\n",
      "  warnings.warn(\n",
      "\n"
     ]
    },
    {
     "name": "stdout",
     "output_type": "stream",
     "text": [
      "Best Iteration:                                                                 \n",
      "599                                                                             \n",
      "[00:58:25] WARNING: ../src/learner.cc:573:                                      \n",
      "Parameters: { \"silent\", \"verbose_eval\" } might not be used.\n",
      "\n",
      "  This may not be accurate due to some parameters are only used in language bindings but\n",
      "  passed down to XGBoost core.  Or some parameters are not used but slip through this\n",
      "  verification. Please open an issue if you find above cases.\n",
      "\n",
      "\n",
      "[0]\teval-rmse:0.29135                                                           \n",
      "[200]\teval-rmse:0.02473                                                         \n",
      "[400]\teval-rmse:0.02470                                                         \n",
      "[599]\teval-rmse:0.02465                                                         \n",
      "Best Iteration:                                                                 \n",
      "599                                                                             \n",
      "[00:59:05] WARNING: ../src/learner.cc:573:                                      \n",
      "Parameters: { \"silent\", \"verbose_eval\" } might not be used.\n",
      "\n",
      "  This may not be accurate due to some parameters are only used in language bindings but\n",
      "  passed down to XGBoost core.  Or some parameters are not used but slip through this\n",
      "  verification. Please open an issue if you find above cases.\n",
      "\n",
      "\n",
      " 70%|█████▌  | 7/10 [07:12<02:44, 54.96s/trial, best loss: 0.023411874638422817]"
     ]
    },
    {
     "name": "stderr",
     "output_type": "stream",
     "text": [
      "/home/xiongzhongzheng/anaconda3/envs/bytecamp/lib/python3.8/site-packages/xgboost/core.py:101: UserWarning: ntree_limit is deprecated, use `iteration_range` or model slicing instead.\n",
      "  warnings.warn(\n",
      "\n"
     ]
    },
    {
     "name": "stdout",
     "output_type": "stream",
     "text": [
      "[0]\teval-rmse:0.33172                                                           \n",
      "[200]\teval-rmse:0.02387                                                         \n",
      "[400]\teval-rmse:0.02381                                                         \n",
      "[599]\teval-rmse:0.02381                                                         \n",
      " 70%|█████▌  | 7/10 [07:58<02:44, 54.96s/trial, best loss: 0.023411874638422817]"
     ]
    },
    {
     "name": "stderr",
     "output_type": "stream",
     "text": [
      "/home/xiongzhongzheng/anaconda3/envs/bytecamp/lib/python3.8/site-packages/xgboost/core.py:101: UserWarning: ntree_limit is deprecated, use `iteration_range` or model slicing instead.\n",
      "  warnings.warn(\n",
      "\n"
     ]
    },
    {
     "name": "stdout",
     "output_type": "stream",
     "text": [
      "Best Iteration:                                                                 \n",
      "599                                                                             \n",
      "[01:00:07] WARNING: ../src/learner.cc:573:                                      \n",
      "Parameters: { \"silent\", \"verbose_eval\" } might not be used.\n",
      "\n",
      "  This may not be accurate due to some parameters are only used in language bindings but\n",
      "  passed down to XGBoost core.  Or some parameters are not used but slip through this\n",
      "  verification. Please open an issue if you find above cases.\n",
      "\n",
      "\n",
      "[0]\teval-rmse:0.34191                                                           \n",
      "[200]\teval-rmse:0.02505                                                         \n",
      "[400]\teval-rmse:0.02500                                                         \n",
      "[599]\teval-rmse:0.02500                                                         \n",
      "Best Iteration:                                                                 \n",
      "599                                                                             \n",
      "[01:00:45] WARNING: ../src/learner.cc:573:                                      \n",
      "Parameters: { \"silent\", \"verbose_eval\" } might not be used.\n",
      "\n",
      "  This may not be accurate due to some parameters are only used in language bindings but\n",
      "  passed down to XGBoost core.  Or some parameters are not used but slip through this\n",
      "  verification. Please open an issue if you find above cases.\n",
      "\n",
      "\n",
      " 90%|███████▏| 9/10 [08:52<00:51, 51.10s/trial, best loss: 0.023411874638422817]"
     ]
    },
    {
     "name": "stderr",
     "output_type": "stream",
     "text": [
      "/home/xiongzhongzheng/anaconda3/envs/bytecamp/lib/python3.8/site-packages/xgboost/core.py:101: UserWarning: ntree_limit is deprecated, use `iteration_range` or model slicing instead.\n",
      "  warnings.warn(\n",
      "\n"
     ]
    },
    {
     "name": "stdout",
     "output_type": "stream",
     "text": [
      "[0]\teval-rmse:0.38267                                                           \n",
      "[200]\teval-rmse:0.02438                                                         \n",
      "[400]\teval-rmse:0.02424                                                         \n",
      "[599]\teval-rmse:0.02419                                                         \n",
      " 90%|███████▏| 9/10 [09:42<00:51, 51.10s/trial, best loss: 0.023411874638422817]"
     ]
    },
    {
     "name": "stderr",
     "output_type": "stream",
     "text": [
      "/home/xiongzhongzheng/anaconda3/envs/bytecamp/lib/python3.8/site-packages/xgboost/core.py:101: UserWarning: ntree_limit is deprecated, use `iteration_range` or model slicing instead.\n",
      "  warnings.warn(\n",
      "\n"
     ]
    },
    {
     "name": "stdout",
     "output_type": "stream",
     "text": [
      "Best Iteration:                                                                 \n",
      "599                                                                             \n",
      "100%|███████| 10/10 [09:58<00:00, 59.89s/trial, best loss: 0.023411874638422817]\n"
     ]
    },
    {
     "ename": "NameError",
     "evalue": "name 'target' is not defined",
     "output_type": "error",
     "traceback": [
      "\u001b[0;31m---------------------------------------------------------------------------\u001b[0m",
      "\u001b[0;31mNameError\u001b[0m                                 Traceback (most recent call last)",
      "\u001b[0;32m/tmp/ipykernel_17872/499926272.py\u001b[0m in \u001b[0;36m<module>\u001b[0;34m\u001b[0m\n\u001b[1;32m      2\u001b[0m \u001b[0mxgb_val\u001b[0m \u001b[0;34m=\u001b[0m \u001b[0mxgb\u001b[0m\u001b[0;34m.\u001b[0m\u001b[0mDMatrix\u001b[0m\u001b[0;34m(\u001b[0m\u001b[0mX_val\u001b[0m\u001b[0;34m,\u001b[0m \u001b[0mlabel\u001b[0m\u001b[0;34m=\u001b[0m\u001b[0my_val\u001b[0m\u001b[0;34m)\u001b[0m\u001b[0;34m\u001b[0m\u001b[0;34m\u001b[0m\u001b[0m\n\u001b[1;32m      3\u001b[0m \u001b[0mbest_params\u001b[0m \u001b[0;34m=\u001b[0m \u001b[0mhyperopt_xgb\u001b[0m\u001b[0;34m(\u001b[0m\u001b[0mxgb_objective\u001b[0m\u001b[0;34m,\u001b[0m \u001b[0mxgb_train\u001b[0m\u001b[0;34m,\u001b[0m \u001b[0mxgb_val\u001b[0m\u001b[0;34m,\u001b[0m \u001b[0my_val\u001b[0m\u001b[0;34m)\u001b[0m\u001b[0;34m\u001b[0m\u001b[0;34m\u001b[0m\u001b[0m\n\u001b[0;32m----> 4\u001b[0;31m \u001b[0mfile_name\u001b[0m\u001b[0;34m=\u001b[0m\u001b[0;34m'xgb_params_target_encoding'\u001b[0m\u001b[0;34m.\u001b[0m\u001b[0mformat\u001b[0m\u001b[0;34m(\u001b[0m\u001b[0mtarget\u001b[0m\u001b[0;34m)\u001b[0m\u001b[0;34m\u001b[0m\u001b[0;34m\u001b[0m\u001b[0m\n\u001b[0m\u001b[1;32m      5\u001b[0m \u001b[0;32mwith\u001b[0m \u001b[0mopen\u001b[0m\u001b[0;34m(\u001b[0m\u001b[0mfile_name\u001b[0m\u001b[0;34m,\u001b[0m \u001b[0;34m'w'\u001b[0m\u001b[0;34m)\u001b[0m \u001b[0;32mas\u001b[0m \u001b[0mf\u001b[0m\u001b[0;34m:\u001b[0m\u001b[0;34m\u001b[0m\u001b[0;34m\u001b[0m\u001b[0m\n\u001b[1;32m      6\u001b[0m     \u001b[0mf\u001b[0m\u001b[0;34m.\u001b[0m\u001b[0mwrite\u001b[0m\u001b[0;34m(\u001b[0m\u001b[0mjson\u001b[0m\u001b[0;34m.\u001b[0m\u001b[0mdumps\u001b[0m\u001b[0;34m(\u001b[0m\u001b[0mbest_params\u001b[0m\u001b[0;34m)\u001b[0m\u001b[0;34m)\u001b[0m\u001b[0;34m\u001b[0m\u001b[0;34m\u001b[0m\u001b[0m\n",
      "\u001b[0;31mNameError\u001b[0m: name 'target' is not defined"
     ]
    }
   ],
   "source": [
    "xgb_train = xgb.DMatrix(X_train, label=y_train)\n",
    "xgb_val = xgb.DMatrix(X_val, label=y_val)\n",
    "best_params = hyperopt_xgb(xgb_objective, xgb_train, xgb_val, y_val)"
   ]
  },
  {
   "cell_type": "code",
   "execution_count": 325,
   "id": "2a25c18e",
   "metadata": {},
   "outputs": [
    {
     "data": {
      "text/plain": [
       "{'booster': 'gbtree',\n",
       " 'colsample_bytree': 0.6000000000000001,\n",
       " 'eta': 0.15000000000000002,\n",
       " 'eval_metric': 'rmse',\n",
       " 'gamma': 0.1,\n",
       " 'max_depth': 17,\n",
       " 'min_child_weight': 5.0,\n",
       " 'nthread': 4,\n",
       " 'objective': 'reg:squarederror',\n",
       " 'seed': 1234,\n",
       " 'silent': 1,\n",
       " 'subsample': 0.9500000000000001,\n",
       " 'tree_method': 'hist',\n",
       " 'verbose_eval': 200}"
      ]
     },
     "execution_count": 325,
     "metadata": {},
     "output_type": "execute_result"
    }
   ],
   "source": [
    "best_params"
   ]
  },
  {
   "cell_type": "code",
   "execution_count": 327,
   "id": "3cf85d2b",
   "metadata": {},
   "outputs": [],
   "source": [
    "file_name='xgb_params_target_encoding.npy'\n",
    "np.save(file_name, best_params)"
   ]
  },
  {
   "cell_type": "code",
   "execution_count": 330,
   "id": "7cce26e2",
   "metadata": {},
   "outputs": [
    {
     "name": "stdout",
     "output_type": "stream",
     "text": [
      "[01:09:37] WARNING: ../src/learner.cc:573: \n",
      "Parameters: { \"silent\", \"verbose_eval\" } might not be used.\n",
      "\n",
      "  This may not be accurate due to some parameters are only used in language bindings but\n",
      "  passed down to XGBoost core.  Or some parameters are not used but slip through this\n",
      "  verification. Please open an issue if you find above cases.\n",
      "\n",
      "\n",
      "[0]\tvalid-rmse:0.36223\n",
      "[50]\tvalid-rmse:0.02382\n",
      "[100]\tvalid-rmse:0.02361\n",
      "[150]\tvalid-rmse:0.02355\n",
      "[200]\tvalid-rmse:0.02351\n",
      "[250]\tvalid-rmse:0.02350\n",
      "[300]\tvalid-rmse:0.02348\n",
      "[350]\tvalid-rmse:0.02347\n",
      "[400]\tvalid-rmse:0.02345\n",
      "[450]\tvalid-rmse:0.02344\n",
      "[500]\tvalid-rmse:0.02342\n",
      "[550]\tvalid-rmse:0.02341\n",
      "[599]\tvalid-rmse:0.02341\n"
     ]
    }
   ],
   "source": [
    "watchlist = [(xgb_val, 'valid')]\n",
    "xgb_model = xgb.train(best_params, xgb_train, 1000, evals=watchlist,\n",
    "                      verbose_eval=50, early_stopping_rounds=50)"
   ]
  },
  {
   "cell_type": "code",
   "execution_count": 333,
   "id": "9e90e006",
   "metadata": {},
   "outputs": [
    {
     "name": "stderr",
     "output_type": "stream",
     "text": [
      "/home/xiongzhongzheng/anaconda3/envs/bytecamp/lib/python3.8/site-packages/xgboost/core.py:101: UserWarning: ntree_limit is deprecated, use `iteration_range` or model slicing instead.\n",
      "  warnings.warn(\n"
     ]
    },
    {
     "name": "stdout",
     "output_type": "stream",
     "text": [
      "rmse: 0.02356509712297411\n"
     ]
    }
   ],
   "source": [
    "xgb_test = xgb.DMatrix(X_test)\n",
    "y_pred_xgb = xgb_model.predict(xgb_test, ntree_limit=xgb_model.best_iteration + 1)\n",
    "print(\"rmse: {}\".format(mean_squared_error(y_test, y_pred_xgb) ** 0.5))"
   ]
  },
  {
   "cell_type": "markdown",
   "id": "50675f7e",
   "metadata": {},
   "source": [
    "## Decision"
   ]
  },
  {
   "cell_type": "code",
   "execution_count": 241,
   "id": "3c74be86",
   "metadata": {},
   "outputs": [],
   "source": [
    "from DecisionModule import DecisionModuleOnline"
   ]
  },
  {
   "cell_type": "code",
   "execution_count": 334,
   "id": "c1a41570",
   "metadata": {},
   "outputs": [],
   "source": [
    "n_test = len(y_test)\n",
    "y_test_ordered = sorted(y_test)\n",
    "S = sum(y_test)"
   ]
  },
  {
   "cell_type": "code",
   "execution_count": 335,
   "id": "a2d161af",
   "metadata": {},
   "outputs": [],
   "source": [
    "online_decision = DecisionModuleOnline()"
   ]
  },
  {
   "cell_type": "code",
   "execution_count": 336,
   "id": "fc8648b8",
   "metadata": {},
   "outputs": [],
   "source": [
    "y_pred = y_pred_xgb"
   ]
  },
  {
   "cell_type": "code",
   "execution_count": 337,
   "id": "60102c55",
   "metadata": {
    "collapsed": true
   },
   "outputs": [
    {
     "name": "stdout",
     "output_type": "stream",
     "text": [
      "0.01 0.012005\n",
      "0.02 0.015815\n",
      "0.03 0.02137\n",
      "0.04 0.027175\n",
      "0.05 0.032915\n",
      "0.06 0.04495\n",
      "0.06 0.04495\n",
      "0.08 0.05663\n",
      "0.09 0.06853\n",
      "0.1 0.08003\n",
      "0.11 0.0899\n",
      "0.12 0.0984\n",
      "0.13 0.10762\n",
      "0.14 0.11869\n",
      "0.15 0.13246\n",
      "0.16 0.14201\n",
      "0.17 0.152835\n",
      "0.18 0.165475\n",
      "0.19 0.17414\n",
      "0.2 0.184525\n",
      "0.21 0.19155\n",
      "0.22 0.20053\n",
      "0.23 0.21153\n",
      "0.24 0.223675\n",
      "0.25 0.237105\n",
      "0.26 0.24976\n",
      "0.27 0.25841\n",
      "0.28 0.268365\n",
      "0.29 0.279345\n",
      "0.3 0.289495\n",
      "0.31 0.301915\n",
      "0.32 0.31285\n",
      "0.33 0.326225\n",
      "0.34 0.332525\n",
      "0.35 0.3415\n",
      "0.36 0.349735\n",
      "0.37 0.35858\n",
      "0.38 0.367085\n",
      "0.39 0.378165\n",
      "0.4 0.38741\n",
      "0.41 0.400305\n",
      "0.42 0.41343\n",
      "0.43 0.422355\n",
      "0.44 0.43259\n",
      "0.45 0.439555\n",
      "0.46 0.45025\n",
      "0.47 0.4606\n",
      "0.48 0.47368\n",
      "0.49 0.484105\n",
      "0.5 0.49458\n",
      "0.51 0.50746\n",
      "0.52 0.514335\n",
      "0.53 0.524415\n",
      "0.54 0.533935\n",
      "0.55 0.54503\n",
      "0.56 0.55677\n",
      "0.57 0.56471\n",
      "0.58 0.57406\n",
      "0.59 0.584685\n",
      "0.6 0.59539\n",
      "0.61 0.604085\n",
      "0.62 0.615695\n",
      "0.63 0.626765\n",
      "0.64 0.639355\n",
      "0.65 0.65202\n",
      "0.66 0.661575\n",
      "0.67 0.66956\n",
      "0.68 0.6822\n",
      "0.69 0.695795\n",
      "0.7 0.701875\n",
      "0.71 0.707285\n",
      "0.72 0.727125\n",
      "0.73 0.733415\n",
      "0.74 0.741085\n",
      "0.75 0.748285\n",
      "0.76 0.759115\n",
      "0.77 0.767145\n",
      "0.78 0.77645\n",
      "0.79 0.788465\n",
      "0.8 0.79977\n",
      "0.81 0.812475\n",
      "0.82 0.824335\n",
      "0.83 0.833125\n",
      "0.84 0.84326\n",
      "0.85 0.853375\n",
      "0.86 0.863615\n",
      "0.87 0.87261\n",
      "0.88 0.88156\n",
      "0.89 0.890375\n",
      "0.9 0.90413\n",
      "0.91 0.91391\n",
      "0.92 0.92237\n",
      "0.93 0.931275\n",
      "0.94 0.940885\n",
      "0.95 0.951\n",
      "0.96 0.958435\n",
      "0.97 0.96926\n",
      "0.98 0.98675\n",
      "0.99 0.993195\n"
     ]
    }
   ],
   "source": [
    "for drop_ratio in np.arange(0.01, 1, 0.01):\n",
    "    drop_ratio = int(drop_ratio * 100) / 100 \n",
    "    print(drop_ratio, sum(y_pred < online_decision.params[drop_ratio])/n)"
   ]
  },
  {
   "cell_type": "code",
   "execution_count": 338,
   "id": "d68877d1",
   "metadata": {
    "collapsed": true
   },
   "outputs": [
    {
     "name": "stdout",
     "output_type": "stream",
     "text": [
      "drop ratio 0.01, drop ratio of our model 0.0120, dropped score of our model 0.0001, best 0.0000\n",
      "drop ratio 0.02, drop ratio of our model 0.0158, dropped score of our model 0.0002, best 0.0001\n",
      "drop ratio 0.03, drop ratio of our model 0.0214, dropped score of our model 0.0002, best 0.0001\n",
      "drop ratio 0.04, drop ratio of our model 0.0272, dropped score of our model 0.0003, best 0.0002\n",
      "drop ratio 0.05, drop ratio of our model 0.0329, dropped score of our model 0.0004, best 0.0003\n",
      "drop ratio 0.06, drop ratio of our model 0.0449, dropped score of our model 0.0006, best 0.0004\n",
      "drop ratio 0.06, drop ratio of our model 0.0449, dropped score of our model 0.0006, best 0.0004\n",
      "drop ratio 0.08, drop ratio of our model 0.0566, dropped score of our model 0.0008, best 0.0007\n",
      "drop ratio 0.09, drop ratio of our model 0.0685, dropped score of our model 0.0010, best 0.0009\n",
      "drop ratio 0.1, drop ratio of our model 0.0800, dropped score of our model 0.0012, best 0.0011\n",
      "drop ratio 0.11, drop ratio of our model 0.0899, dropped score of our model 0.0015, best 0.0013\n",
      "drop ratio 0.12, drop ratio of our model 0.0984, dropped score of our model 0.0017, best 0.0016\n",
      "drop ratio 0.13, drop ratio of our model 0.1076, dropped score of our model 0.0019, best 0.0019\n",
      "drop ratio 0.14, drop ratio of our model 0.1187, dropped score of our model 0.0023, best 0.0022\n",
      "drop ratio 0.15, drop ratio of our model 0.1325, dropped score of our model 0.0028, best 0.0025\n",
      "drop ratio 0.16, drop ratio of our model 0.1420, dropped score of our model 0.0031, best 0.0029\n",
      "drop ratio 0.17, drop ratio of our model 0.1528, dropped score of our model 0.0036, best 0.0034\n",
      "drop ratio 0.18, drop ratio of our model 0.1655, dropped score of our model 0.0042, best 0.0039\n",
      "drop ratio 0.19, drop ratio of our model 0.1741, dropped score of our model 0.0047, best 0.0044\n",
      "drop ratio 0.2, drop ratio of our model 0.1845, dropped score of our model 0.0052, best 0.0050\n",
      "drop ratio 0.21, drop ratio of our model 0.1915, dropped score of our model 0.0057, best 0.0056\n",
      "drop ratio 0.22, drop ratio of our model 0.2005, dropped score of our model 0.0063, best 0.0063\n",
      "drop ratio 0.23, drop ratio of our model 0.2115, dropped score of our model 0.0071, best 0.0071\n",
      "drop ratio 0.24, drop ratio of our model 0.2237, dropped score of our model 0.0081, best 0.0080\n",
      "drop ratio 0.25, drop ratio of our model 0.2371, dropped score of our model 0.0095, best 0.0090\n",
      "drop ratio 0.26, drop ratio of our model 0.2498, dropped score of our model 0.0109, best 0.0101\n",
      "drop ratio 0.27, drop ratio of our model 0.2584, dropped score of our model 0.0119, best 0.0113\n",
      "drop ratio 0.28, drop ratio of our model 0.2684, dropped score of our model 0.0132, best 0.0125\n",
      "drop ratio 0.29, drop ratio of our model 0.2793, dropped score of our model 0.0147, best 0.0139\n",
      "drop ratio 0.3, drop ratio of our model 0.2895, dropped score of our model 0.0161, best 0.0153\n",
      "drop ratio 0.31, drop ratio of our model 0.3019, dropped score of our model 0.0179, best 0.0168\n",
      "drop ratio 0.32, drop ratio of our model 0.3129, dropped score of our model 0.0196, best 0.0184\n",
      "drop ratio 0.33, drop ratio of our model 0.3262, dropped score of our model 0.0219, best 0.0201\n",
      "drop ratio 0.34, drop ratio of our model 0.3325, dropped score of our model 0.0230, best 0.0219\n",
      "drop ratio 0.35, drop ratio of our model 0.3415, dropped score of our model 0.0247, best 0.0238\n",
      "drop ratio 0.36, drop ratio of our model 0.3497, dropped score of our model 0.0263, best 0.0258\n",
      "drop ratio 0.37, drop ratio of our model 0.3586, dropped score of our model 0.0281, best 0.0279\n",
      "drop ratio 0.38, drop ratio of our model 0.3671, dropped score of our model 0.0300, best 0.0302\n",
      "drop ratio 0.39, drop ratio of our model 0.3782, dropped score of our model 0.0327, best 0.0325\n",
      "drop ratio 0.4, drop ratio of our model 0.3874, dropped score of our model 0.0350, best 0.0351\n",
      "drop ratio 0.41, drop ratio of our model 0.4003, dropped score of our model 0.0384, best 0.0378\n",
      "drop ratio 0.42, drop ratio of our model 0.4134, dropped score of our model 0.0421, best 0.0405\n",
      "drop ratio 0.43, drop ratio of our model 0.4224, dropped score of our model 0.0446, best 0.0434\n",
      "drop ratio 0.44, drop ratio of our model 0.4326, dropped score of our model 0.0476, best 0.0465\n",
      "drop ratio 0.45, drop ratio of our model 0.4396, dropped score of our model 0.0497, best 0.0496\n",
      "drop ratio 0.46, drop ratio of our model 0.4502, dropped score of our model 0.0531, best 0.0528\n",
      "drop ratio 0.47, drop ratio of our model 0.4606, dropped score of our model 0.0566, best 0.0561\n",
      "drop ratio 0.48, drop ratio of our model 0.4737, dropped score of our model 0.0611, best 0.0595\n",
      "drop ratio 0.49, drop ratio of our model 0.4841, dropped score of our model 0.0648, best 0.0630\n",
      "drop ratio 0.5, drop ratio of our model 0.4946, dropped score of our model 0.0685, best 0.0666\n",
      "drop ratio 0.51, drop ratio of our model 0.5075, dropped score of our model 0.0734, best 0.0704\n",
      "drop ratio 0.52, drop ratio of our model 0.5143, dropped score of our model 0.0761, best 0.0743\n",
      "drop ratio 0.53, drop ratio of our model 0.5244, dropped score of our model 0.0802, best 0.0784\n",
      "drop ratio 0.54, drop ratio of our model 0.5339, dropped score of our model 0.0843, best 0.0826\n",
      "drop ratio 0.55, drop ratio of our model 0.5450, dropped score of our model 0.0892, best 0.0871\n",
      "drop ratio 0.56, drop ratio of our model 0.5568, dropped score of our model 0.0946, best 0.0916\n",
      "drop ratio 0.57, drop ratio of our model 0.5647, dropped score of our model 0.0984, best 0.0964\n",
      "drop ratio 0.58, drop ratio of our model 0.5741, dropped score of our model 0.1029, best 0.1013\n",
      "drop ratio 0.59, drop ratio of our model 0.5847, dropped score of our model 0.1082, best 0.1063\n",
      "drop ratio 0.6, drop ratio of our model 0.5954, dropped score of our model 0.1138, best 0.1116\n",
      "drop ratio 0.61, drop ratio of our model 0.6041, dropped score of our model 0.1185, best 0.1170\n",
      "drop ratio 0.62, drop ratio of our model 0.6157, dropped score of our model 0.1250, best 0.1226\n",
      "drop ratio 0.63, drop ratio of our model 0.6268, dropped score of our model 0.1313, best 0.1283\n",
      "drop ratio 0.64, drop ratio of our model 0.6394, dropped score of our model 0.1386, best 0.1342\n",
      "drop ratio 0.65, drop ratio of our model 0.6520, dropped score of our model 0.1464, best 0.1403\n",
      "drop ratio 0.66, drop ratio of our model 0.6616, dropped score of our model 0.1524, best 0.1466\n",
      "drop ratio 0.67, drop ratio of our model 0.6696, dropped score of our model 0.1576, best 0.1531\n",
      "drop ratio 0.68, drop ratio of our model 0.6822, dropped score of our model 0.1662, best 0.1599\n",
      "drop ratio 0.69, drop ratio of our model 0.6958, dropped score of our model 0.1762, best 0.1672\n",
      "drop ratio 0.7, drop ratio of our model 0.7019, dropped score of our model 0.1809, best 0.1748\n",
      "drop ratio 0.71, drop ratio of our model 0.7073, dropped score of our model 0.1853, best 0.1830\n",
      "drop ratio 0.72, drop ratio of our model 0.7271, dropped score of our model 0.2025, best 0.1917\n",
      "drop ratio 0.73, drop ratio of our model 0.7334, dropped score of our model 0.2084, best 0.2010\n",
      "drop ratio 0.74, drop ratio of our model 0.7411, dropped score of our model 0.2161, best 0.2111\n",
      "drop ratio 0.75, drop ratio of our model 0.7483, dropped score of our model 0.2240, best 0.2219\n",
      "drop ratio 0.76, drop ratio of our model 0.7591, dropped score of our model 0.2368, best 0.2337\n",
      "drop ratio 0.77, drop ratio of our model 0.7671, dropped score of our model 0.2469, best 0.2464\n",
      "drop ratio 0.78, drop ratio of our model 0.7764, dropped score of our model 0.2593, best 0.2599\n",
      "drop ratio 0.79, drop ratio of our model 0.7885, dropped score of our model 0.2766, best 0.2743\n",
      "drop ratio 0.8, drop ratio of our model 0.7998, dropped score of our model 0.2937, best 0.2894\n",
      "drop ratio 0.81, drop ratio of our model 0.8125, dropped score of our model 0.3139, best 0.3053\n",
      "drop ratio 0.82, drop ratio of our model 0.8243, dropped score of our model 0.3339, best 0.3221\n",
      "drop ratio 0.83, drop ratio of our model 0.8331, dropped score of our model 0.3493, best 0.3398\n",
      "drop ratio 0.84, drop ratio of our model 0.8433, dropped score of our model 0.3682, best 0.3584\n",
      "drop ratio 0.85, drop ratio of our model 0.8534, dropped score of our model 0.3879, best 0.3778\n",
      "drop ratio 0.86, drop ratio of our model 0.8636, dropped score of our model 0.4086, best 0.3980\n"
     ]
    },
    {
     "name": "stdout",
     "output_type": "stream",
     "text": [
      "drop ratio 0.87, drop ratio of our model 0.8726, dropped score of our model 0.4275, best 0.4190\n",
      "drop ratio 0.88, drop ratio of our model 0.8816, dropped score of our model 0.4472, best 0.4410\n",
      "drop ratio 0.89, drop ratio of our model 0.8904, dropped score of our model 0.4676, best 0.4640\n",
      "drop ratio 0.9, drop ratio of our model 0.9041, dropped score of our model 0.5020, best 0.4889\n",
      "drop ratio 0.91, drop ratio of our model 0.9139, dropped score of our model 0.5284, best 0.5157\n",
      "drop ratio 0.92, drop ratio of our model 0.9224, dropped score of our model 0.5521, best 0.5437\n",
      "drop ratio 0.93, drop ratio of our model 0.9313, dropped score of our model 0.5799, best 0.5746\n",
      "drop ratio 0.94, drop ratio of our model 0.9409, dropped score of our model 0.6166, best 0.6115\n",
      "drop ratio 0.95, drop ratio of our model 0.9510, dropped score of our model 0.6752, best 0.6688\n",
      "drop ratio 0.96, drop ratio of our model 0.9584, dropped score of our model 0.7241, best 0.7343\n",
      "drop ratio 0.97, drop ratio of our model 0.9693, dropped score of our model 0.7958, best 0.8005\n",
      "drop ratio 0.98, drop ratio of our model 0.9868, dropped score of our model 0.9117, best 0.8668\n",
      "drop ratio 0.99, drop ratio of our model 0.9932, dropped score of our model 0.9545, best 0.9332\n"
     ]
    }
   ],
   "source": [
    "dropped_scores = []\n",
    "drop_ratios = []\n",
    "best_scores = []\n",
    "for drop_ratio in np.arange(0.01, 1, 0.01):\n",
    "    drop_ratio = int(drop_ratio * 100) / 100 \n",
    "    indicator = np.apply_along_axis(lambda score, drop_ratio: online_decision.decide(score, drop_ratio), 0, y_pred, drop_ratio)\n",
    "    dropped_ratio = sum(indicator) / n_test\n",
    "    drop_ratios.append(dropped_ratio)\n",
    "    dropped_score = sum(y_test[indicator])\n",
    "    best_scores.append(sum(y_test_ordered[:int(n * drop_ratio)]) / S)\n",
    "    dropped_scores.append(dropped_score / S)\n",
    "    print(\"drop ratio {}, drop ratio of our model {:.4f}, dropped score of our model {:.4f}, best {:.4f}\".format(drop_ratio, drop_ratios[-1], dropped_scores[-1], best_scores[-1]))"
   ]
  },
  {
   "cell_type": "code",
   "execution_count": 339,
   "id": "9ec7e367",
   "metadata": {},
   "outputs": [
    {
     "data": {
      "image/png": "[encoded data removed]",
      "text/plain": [
       "<Figure size 432x288 with 1 Axes>"
      ]
     },
     "metadata": {
      "needs_background": "light"
     },
     "output_type": "display_data"
    }
   ],
   "source": [
    "fig, ax = plt.subplots()\n",
    "ax.plot(np.arange(0.01, 0.2, 0.01), dropped_scores[:19], label='our model')\n",
    "ax.plot(np.arange(0.01, 0.2, 0.01), best_scores[:19], label='best')\n",
    "ax.set_ylabel(\"dropped score / total score\")\n",
    "ax.set_xlabel('drop ratio')\n",
    "ax.legend()\n",
    "fig.tight_layout()\n",
    "plt.show()"
   ]
  },
  {
   "cell_type": "code",
   "execution_count": 340,
   "id": "6b8200dd",
   "metadata": {},
   "outputs": [
    {
     "data": {
      "image/png": "[encoded data removed]",
      "text/plain": [
       "<Figure size 432x288 with 1 Axes>"
      ]
     },
     "metadata": {
      "needs_background": "light"
     },
     "output_type": "display_data"
    }
   ],
   "source": [
    "fig, ax = plt.subplots()\n",
    "ax.plot(np.arange(0.01, 0.2, 0.01), drop_ratios[:19], label='our model')\n",
    "ax.plot(np.arange(0.01, 0.2, 0.01), np.arange(0.01, 0.2, 0.01), label='best')\n",
    "ax.set_ylabel(\"real drop ratio\")\n",
    "ax.set_xlabel('drop ratio')\n",
    "ax.legend()\n",
    "fig.tight_layout()\n",
    "plt.show()"
   ]
  }
 ],
 "metadata": {
  "kernelspec": {
   "display_name": "Python 3 (ipykernel)",
   "language": "python",
   "name": "python3"
  },
  "language_info": {
   "codemirror_mode": {
    "name": "ipython",
    "version": 3
   },
   "file_extension": ".py",
   "mimetype": "text/x-python",
   "name": "python",
   "nbconvert_exporter": "python",
   "pygments_lexer": "ipython3",
   "version": "3.8.10"
  }
 },
 "nbformat": 4,
 "nbformat_minor": 5
}
