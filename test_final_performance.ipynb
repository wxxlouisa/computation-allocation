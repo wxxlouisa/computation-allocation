{
 "cells": [
  {
   "cell_type": "code",
   "execution_count": 85,
   "id": "fa63dbcd",
   "metadata": {},
   "outputs": [],
   "source": [
    "import pandas as pd\n",
    "import numpy as np\n",
    "from decision_module import DecisionModuleOnline\n",
    "import matplotlib.pyplot as plt"
   ]
  },
  {
   "cell_type": "code",
   "execution_count": 86,
   "id": "6accafb1",
   "metadata": {},
   "outputs": [],
   "source": [
    "online_decision = DecisionModuleOnline()"
   ]
  },
  {
   "cell_type": "code",
   "execution_count": 87,
   "id": "1770c23a",
   "metadata": {},
   "outputs": [],
   "source": [
    "estimated_score = pd.read_csv(\"trans_data/eval_out.csv\")"
   ]
  },
  {
   "cell_type": "code",
   "execution_count": 88,
   "id": "ef949a36",
   "metadata": {},
   "outputs": [],
   "source": [
    "n = len(estimated_score)"
   ]
  },
  {
   "cell_type": "code",
   "execution_count": 89,
   "id": "806c31e6",
   "metadata": {},
   "outputs": [],
   "source": [
    "S = sum(estimated_score['label'])"
   ]
  },
  {
   "cell_type": "code",
   "execution_count": 90,
   "id": "e8b67bfe",
   "metadata": {},
   "outputs": [],
   "source": [
    "scores = estimated_score['label'].values\n",
    "scores.sort()"
   ]
  },
  {
   "cell_type": "code",
   "execution_count": 91,
   "id": "09849321",
   "metadata": {
    "collapsed": true
   },
   "outputs": [
    {
     "name": "stdout",
     "output_type": "stream",
     "text": [
      "0.01 0.00988\n",
      "0.02 0.019855\n",
      "0.03 0.029585\n",
      "0.04 0.03967\n",
      "0.05 0.049555\n",
      "0.060000000000000005 0.059515\n",
      "0.06999999999999999 0.06943\n",
      "0.08 0.079175\n",
      "0.09 0.089155\n",
      "0.09999999999999999 0.099135\n",
      "0.11 0.109125\n",
      "0.12 0.118955\n",
      "0.13 0.12884\n",
      "0.14 0.138785\n",
      "0.15000000000000002 0.14916\n",
      "0.16 0.15912\n",
      "0.17 0.16904\n",
      "0.18000000000000002 0.179055\n",
      "0.19 0.188875\n",
      "0.2 0.199015\n",
      "0.21000000000000002 0.20909\n",
      "0.22 0.219315\n",
      "0.23 0.229295\n",
      "0.24000000000000002 0.239375\n",
      "0.25 0.24928\n"
     ]
    },
    {
     "ename": "KeyboardInterrupt",
     "evalue": "",
     "output_type": "error",
     "traceback": [
      "\u001b[0;31m---------------------------------------------------------------------------\u001b[0m",
      "\u001b[0;31mKeyboardInterrupt\u001b[0m                         Traceback (most recent call last)",
      "\u001b[0;32m<ipython-input-91-fa5091ebb6fa>\u001b[0m in \u001b[0;36m<module>\u001b[0;34m\u001b[0m\n\u001b[1;32m      1\u001b[0m \u001b[0;32mfor\u001b[0m \u001b[0mdrop_ratio\u001b[0m \u001b[0;32min\u001b[0m \u001b[0mnp\u001b[0m\u001b[0;34m.\u001b[0m\u001b[0marange\u001b[0m\u001b[0;34m(\u001b[0m\u001b[0;36m0.01\u001b[0m\u001b[0;34m,\u001b[0m \u001b[0;36m1\u001b[0m\u001b[0;34m,\u001b[0m \u001b[0;36m0.01\u001b[0m\u001b[0;34m)\u001b[0m\u001b[0;34m:\u001b[0m\u001b[0;34m\u001b[0m\u001b[0;34m\u001b[0m\u001b[0m\n\u001b[0;32m----> 2\u001b[0;31m     \u001b[0mprint\u001b[0m\u001b[0;34m(\u001b[0m\u001b[0mdrop_ratio\u001b[0m\u001b[0;34m,\u001b[0m \u001b[0msum\u001b[0m\u001b[0;34m(\u001b[0m\u001b[0mscores\u001b[0m \u001b[0;34m<\u001b[0m \u001b[0monline_decision\u001b[0m\u001b[0;34m.\u001b[0m\u001b[0mparams\u001b[0m\u001b[0;34m[\u001b[0m\u001b[0mdrop_ratio\u001b[0m\u001b[0;34m]\u001b[0m\u001b[0;34m)\u001b[0m \u001b[0;34m/\u001b[0m \u001b[0mn\u001b[0m\u001b[0;34m)\u001b[0m\u001b[0;34m\u001b[0m\u001b[0;34m\u001b[0m\u001b[0m\n\u001b[0m",
      "\u001b[0;31mKeyboardInterrupt\u001b[0m: "
     ]
    }
   ],
   "source": [
    "for drop_ratio in np.arange(0.01, 1, 0.01):\n",
    "    print(drop_ratio, sum(scores < online_decision.params[drop_ratio]) / n)"
   ]
  },
  {
   "cell_type": "code",
   "execution_count": 95,
   "id": "c4730c8a",
   "metadata": {
    "collapsed": true
   },
   "outputs": [
    {
     "name": "stdout",
     "output_type": "stream",
     "text": [
      "drop ratio 0.01, drop ratio of our model 0.0099, dropped score of our model 0.0000, best 0.0000\n",
      "drop ratio 0.02, drop ratio of our model 0.0199, dropped score of our model 0.0001, best 0.0001\n",
      "drop ratio 0.03, drop ratio of our model 0.0296, dropped score of our model 0.0001, best 0.0001\n",
      "drop ratio 0.04, drop ratio of our model 0.0397, dropped score of our model 0.0002, best 0.0002\n",
      "drop ratio 0.05, drop ratio of our model 0.0496, dropped score of our model 0.0003, best 0.0003\n",
      "drop ratio 0.060000000000000005, drop ratio of our model 0.0595, dropped score of our model 0.0004, best 0.0004\n",
      "drop ratio 0.06999999999999999, drop ratio of our model 0.0694, dropped score of our model 0.0005, best 0.0005\n",
      "drop ratio 0.08, drop ratio of our model 0.0792, dropped score of our model 0.0007, best 0.0007\n",
      "drop ratio 0.09, drop ratio of our model 0.0892, dropped score of our model 0.0009, best 0.0009\n",
      "drop ratio 0.09999999999999999, drop ratio of our model 0.0991, dropped score of our model 0.0011, best 0.0011\n",
      "drop ratio 0.11, drop ratio of our model 0.1091, dropped score of our model 0.0013, best 0.0013\n",
      "drop ratio 0.12, drop ratio of our model 0.1190, dropped score of our model 0.0016, best 0.0016\n",
      "drop ratio 0.13, drop ratio of our model 0.1288, dropped score of our model 0.0018, best 0.0019\n",
      "drop ratio 0.14, drop ratio of our model 0.1388, dropped score of our model 0.0021, best 0.0022\n",
      "drop ratio 0.15000000000000002, drop ratio of our model 0.1492, dropped score of our model 0.0025, best 0.0025\n",
      "drop ratio 0.16, drop ratio of our model 0.1591, dropped score of our model 0.0029, best 0.0029\n",
      "drop ratio 0.17, drop ratio of our model 0.1690, dropped score of our model 0.0033, best 0.0034\n",
      "drop ratio 0.18000000000000002, drop ratio of our model 0.1791, dropped score of our model 0.0038, best 0.0038\n",
      "drop ratio 0.19, drop ratio of our model 0.1889, dropped score of our model 0.0043, best 0.0044\n",
      "drop ratio 0.2, drop ratio of our model 0.1990, dropped score of our model 0.0049, best 0.0049\n",
      "drop ratio 0.21000000000000002, drop ratio of our model 0.2091, dropped score of our model 0.0055, best 0.0056\n",
      "drop ratio 0.22, drop ratio of our model 0.2193, dropped score of our model 0.0062, best 0.0063\n",
      "drop ratio 0.23, drop ratio of our model 0.2293, dropped score of our model 0.0070, best 0.0071\n",
      "drop ratio 0.24000000000000002, drop ratio of our model 0.2394, dropped score of our model 0.0079, best 0.0080\n",
      "drop ratio 0.25, drop ratio of our model 0.2493, dropped score of our model 0.0089, best 0.0090\n",
      "drop ratio 0.26, drop ratio of our model 0.2594, dropped score of our model 0.0100, best 0.0101\n",
      "drop ratio 0.27, drop ratio of our model 0.2690, dropped score of our model 0.0111, best 0.0112\n",
      "drop ratio 0.28, drop ratio of our model 0.2787, dropped score of our model 0.0123, best 0.0125\n",
      "drop ratio 0.29000000000000004, drop ratio of our model 0.2888, dropped score of our model 0.0137, best 0.0138\n",
      "drop ratio 0.3, drop ratio of our model 0.2990, dropped score of our model 0.0151, best 0.0152\n",
      "drop ratio 0.31, drop ratio of our model 0.3089, dropped score of our model 0.0165, best 0.0167\n",
      "drop ratio 0.32, drop ratio of our model 0.3187, dropped score of our model 0.0181, best 0.0183\n",
      "drop ratio 0.33, drop ratio of our model 0.3291, dropped score of our model 0.0199, best 0.0200\n",
      "drop ratio 0.34, drop ratio of our model 0.3387, dropped score of our model 0.0216, best 0.0218\n",
      "drop ratio 0.35000000000000003, drop ratio of our model 0.3489, dropped score of our model 0.0235, best 0.0237\n",
      "drop ratio 0.36000000000000004, drop ratio of our model 0.3584, dropped score of our model 0.0254, best 0.0257\n",
      "drop ratio 0.37, drop ratio of our model 0.3686, dropped score of our model 0.0276, best 0.0279\n",
      "drop ratio 0.38, drop ratio of our model 0.3786, dropped score of our model 0.0298, best 0.0301\n",
      "drop ratio 0.39, drop ratio of our model 0.3887, dropped score of our model 0.0322, best 0.0325\n",
      "drop ratio 0.4, drop ratio of our model 0.3986, dropped score of our model 0.0347, best 0.0350\n",
      "drop ratio 0.41000000000000003, drop ratio of our model 0.4086, dropped score of our model 0.0373, best 0.0377\n",
      "drop ratio 0.42000000000000004, drop ratio of our model 0.4186, dropped score of our model 0.0401, best 0.0405\n",
      "drop ratio 0.43, drop ratio of our model 0.4287, dropped score of our model 0.0430, best 0.0434\n",
      "drop ratio 0.44, drop ratio of our model 0.4389, dropped score of our model 0.0461, best 0.0464\n",
      "drop ratio 0.45, drop ratio of our model 0.4488, dropped score of our model 0.0491, best 0.0495\n",
      "drop ratio 0.46, drop ratio of our model 0.4588, dropped score of our model 0.0523, best 0.0527\n",
      "drop ratio 0.47000000000000003, drop ratio of our model 0.4686, dropped score of our model 0.0555, best 0.0560\n",
      "drop ratio 0.48000000000000004, drop ratio of our model 0.4787, dropped score of our model 0.0590, best 0.0594\n",
      "drop ratio 0.49, drop ratio of our model 0.4889, dropped score of our model 0.0625, best 0.0629\n",
      "drop ratio 0.5, drop ratio of our model 0.4989, dropped score of our model 0.0661, best 0.0665\n",
      "drop ratio 0.51, drop ratio of our model 0.5087, dropped score of our model 0.0698, best 0.0703\n",
      "drop ratio 0.52, drop ratio of our model 0.5185, dropped score of our model 0.0736, best 0.0742\n",
      "drop ratio 0.53, drop ratio of our model 0.5287, dropped score of our model 0.0778, best 0.0783\n",
      "drop ratio 0.54, drop ratio of our model 0.5388, dropped score of our model 0.0821, best 0.0826\n",
      "drop ratio 0.55, drop ratio of our model 0.5487, dropped score of our model 0.0864, best 0.0870\n",
      "drop ratio 0.56, drop ratio of our model 0.5589, dropped score of our model 0.0911, best 0.0916\n",
      "drop ratio 0.5700000000000001, drop ratio of our model 0.5688, dropped score of our model 0.0958, best 0.0963\n",
      "drop ratio 0.5800000000000001, drop ratio of our model 0.5786, dropped score of our model 0.1005, best 0.1012\n",
      "drop ratio 0.59, drop ratio of our model 0.5885, dropped score of our model 0.1056, best 0.1063\n",
      "drop ratio 0.6, drop ratio of our model 0.5986, dropped score of our model 0.1108, best 0.1116\n",
      "drop ratio 0.61, drop ratio of our model 0.6086, dropped score of our model 0.1162, best 0.1170\n",
      "drop ratio 0.62, drop ratio of our model 0.6191, dropped score of our model 0.1221, best 0.1226\n",
      "drop ratio 0.63, drop ratio of our model 0.6291, dropped score of our model 0.1278, best 0.1283\n",
      "drop ratio 0.64, drop ratio of our model 0.6395, dropped score of our model 0.1339, best 0.1342\n",
      "drop ratio 0.65, drop ratio of our model 0.6497, dropped score of our model 0.1401, best 0.1403\n",
      "drop ratio 0.66, drop ratio of our model 0.6599, dropped score of our model 0.1465, best 0.1466\n",
      "drop ratio 0.67, drop ratio of our model 0.6699, dropped score of our model 0.1530, best 0.1531\n",
      "drop ratio 0.68, drop ratio of our model 0.6799, dropped score of our model 0.1599, best 0.1600\n",
      "drop ratio 0.6900000000000001, drop ratio of our model 0.6901, dropped score of our model 0.1673, best 0.1672\n",
      "drop ratio 0.7000000000000001, drop ratio of our model 0.7001, dropped score of our model 0.1749, best 0.1749\n",
      "drop ratio 0.7100000000000001, drop ratio of our model 0.7100, dropped score of our model 0.1831, best 0.1830\n",
      "drop ratio 0.72, drop ratio of our model 0.7202, dropped score of our model 0.1919, best 0.1918\n",
      "drop ratio 0.73, drop ratio of our model 0.7298, dropped score of our model 0.2009, best 0.2011\n",
      "drop ratio 0.74, drop ratio of our model 0.7398, dropped score of our model 0.2111, best 0.2112\n",
      "drop ratio 0.75, drop ratio of our model 0.7498, dropped score of our model 0.2219, best 0.2222\n",
      "drop ratio 0.76, drop ratio of our model 0.7601, dropped score of our model 0.2340, best 0.2339\n",
      "drop ratio 0.77, drop ratio of our model 0.7697, dropped score of our model 0.2462, best 0.2466\n",
      "drop ratio 0.78, drop ratio of our model 0.7797, dropped score of our model 0.2597, best 0.2601\n",
      "drop ratio 0.79, drop ratio of our model 0.7896, dropped score of our model 0.2738, best 0.2744\n",
      "drop ratio 0.8, drop ratio of our model 0.7996, dropped score of our model 0.2889, best 0.2895\n",
      "drop ratio 0.81, drop ratio of our model 0.8097, dropped score of our model 0.3049, best 0.3054\n",
      "drop ratio 0.8200000000000001, drop ratio of our model 0.8198, dropped score of our model 0.3218, best 0.3222\n",
      "drop ratio 0.8300000000000001, drop ratio of our model 0.8298, dropped score of our model 0.3395, best 0.3398\n"
     ]
    },
    {
     "name": "stdout",
     "output_type": "stream",
     "text": [
      "drop ratio 0.8400000000000001, drop ratio of our model 0.8397, dropped score of our model 0.3578, best 0.3583\n",
      "drop ratio 0.85, drop ratio of our model 0.8497, dropped score of our model 0.3770, best 0.3777\n",
      "drop ratio 0.86, drop ratio of our model 0.8599, dropped score of our model 0.3976, best 0.3978\n",
      "drop ratio 0.87, drop ratio of our model 0.8697, dropped score of our model 0.4182, best 0.4188\n",
      "drop ratio 0.88, drop ratio of our model 0.8802, dropped score of our model 0.4413, best 0.4408\n",
      "drop ratio 0.89, drop ratio of our model 0.8900, dropped score of our model 0.4638, best 0.4639\n",
      "drop ratio 0.9, drop ratio of our model 0.9001, dropped score of our model 0.4890, best 0.4888\n",
      "drop ratio 0.91, drop ratio of our model 0.9099, dropped score of our model 0.5154, best 0.5155\n",
      "drop ratio 0.92, drop ratio of our model 0.9198, dropped score of our model 0.5428, best 0.5435\n",
      "drop ratio 0.93, drop ratio of our model 0.9298, dropped score of our model 0.5740, best 0.5746\n",
      "drop ratio 0.9400000000000001, drop ratio of our model 0.9399, dropped score of our model 0.6117, best 0.6123\n",
      "drop ratio 0.9500000000000001, drop ratio of our model 0.9500, dropped score of our model 0.6700, best 0.6701\n",
      "drop ratio 0.9600000000000001, drop ratio of our model 0.9601, dropped score of our model 0.7362, best 0.7355\n",
      "drop ratio 0.97, drop ratio of our model 0.9700, dropped score of our model 0.8015, best 0.8014\n",
      "drop ratio 0.98, drop ratio of our model 0.9799, dropped score of our model 0.8670, best 0.8674\n",
      "drop ratio 0.99, drop ratio of our model 0.9901, dropped score of our model 0.9344, best 0.9335\n"
     ]
    }
   ],
   "source": [
    "dropped_scores = []\n",
    "drop_ratios = []\n",
    "best_scores = []\n",
    "for drop_ratio in np.arange(0.01, 1, 0.01):\n",
    "    indicator = (estimated_score['label'].apply(lambda score, drop_ratio: online_decision.decide(score, drop_ratio), args=[drop_ratio]))\n",
    "    dropped_ratio = sum(indicator) / n\n",
    "    drop_ratios.append(dropped_ratio)\n",
    "    dropped_score = sum(estimated_score[indicator]['label'])\n",
    "    best_scores.append(sum(scores[:int(n * drop_ratio)]) / S)\n",
    "    dropped_scores.append(dropped_score / S)\n",
    "    print(\"drop ratio {}, drop ratio of our model {:.4f}, dropped score of our model {:.4f}, best {:.4f}\".format(drop_ratio, drop_ratios[-1], dropped_scores[-1], best_scores[-1]))"
   ]
  },
  {
   "cell_type": "code",
   "execution_count": 94,
   "id": "f8105a24",
   "metadata": {},
   "outputs": [
    {
     "data": {
      "image/png": "[encoded data removed]",
      "text/plain": [
       "<Figure size 432x288 with 1 Axes>"
      ]
     },
     "metadata": {
      "needs_background": "light"
     },
     "output_type": "display_data"
    }
   ],
   "source": [
    "fig, ax = plt.subplots()\n",
    "ax.plot(np.arange(0.01, 1, 0.01), dropped_scores, label='our model')\n",
    "ax.plot(np.arange(0.01, 1, 0.01), best_scores, label='best')\n",
    "ax.set_ylabel(\"dropped score / total score\")\n",
    "ax.set_xlabel('drop ratio')\n",
    "ax.legend()\n",
    "fig.tight_layout()\n",
    "plt.show()"
   ]
  }
 ],
 "metadata": {
  "kernelspec": {
   "display_name": "Python 3",
   "language": "python",
   "name": "python3"
  },
  "language_info": {
   "codemirror_mode": {
    "name": "ipython",
    "version": 3
   },
   "file_extension": ".py",
   "mimetype": "text/x-python",
   "name": "python",
   "nbconvert_exporter": "python",
   "pygments_lexer": "ipython3",
   "version": "3.8.10"
  }
 },
 "nbformat": 4,
 "nbformat_minor": 5
}
